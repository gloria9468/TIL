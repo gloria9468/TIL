{
  "cells": [
    {
      "cell_type": "markdown",
      "metadata": {
        "colab_type": "text",
        "id": "view-in-github"
      },
      "source": [
        "<a href=\"https://colab.research.google.com/github/ykkim77/3rd-week/blob/main/python_programming_3rd.ipynb\" target=\"_parent\"><img src=\"https://colab.research.google.com/assets/colab-badge.svg\" alt=\"Open In Colab\"/></a>"
      ]
    },
    {
      "cell_type": "markdown",
      "metadata": {
        "id": "wlbKZv6g3Xgk"
      },
      "source": [
        "# 변수의 사용"
      ]
    },
    {
      "cell_type": "markdown",
      "metadata": {
        "id": "ZoK1zGkd8wId"
      },
      "source": [
        "**파이썬에서는 자동으로 변수의 타입이 할당된다.**"
      ]
    },
    {
      "cell_type": "code",
      "execution_count": null,
      "metadata": {
        "colab": {
          "base_uri": "https://localhost:8080/"
        },
        "id": "BXxEEeFm3oZ3",
        "outputId": "4149e00e-c0d0-4439-99e7-4f0603d3928e"
      },
      "outputs": [
        {
          "name": "stdout",
          "output_type": "stream",
          "text": [
            "a: 10  b: python c:1.34\n"
          ]
        }
      ],
      "source": [
        "a = 10\n",
        "b = \"python\"\n",
        "c = 1.34\n",
        "\n",
        "print(\"a: %d  b: %s c:%.2f\" %(a,b,c))"
      ]
    },
    {
      "cell_type": "markdown",
      "metadata": {
        "id": "4A6sQycl85P9"
      },
      "source": [
        "**위에서 선언한 변수의 type을 알아보자**"
      ]
    },
    {
      "cell_type": "code",
      "execution_count": null,
      "metadata": {
        "colab": {
          "base_uri": "https://localhost:8080/"
        },
        "id": "vjWJTrQM83_s",
        "outputId": "925f5c3c-d85e-4a4a-de99-f22308fa3d55"
      },
      "outputs": [
        {
          "data": {
            "text/plain": [
              "str"
            ]
          },
          "execution_count": 3,
          "metadata": {
            "tags": []
          },
          "output_type": "execute_result"
        }
      ],
      "source": [
        "type(a)     # 변수 a의 데이터 타입\n"
      ]
    },
    {
      "cell_type": "code",
      "execution_count": null,
      "metadata": {
        "colab": {
          "base_uri": "https://localhost:8080/"
        },
        "id": "iHyrEv2Y9cmQ",
        "outputId": "c1e4e957-998a-4499-dae8-87a4c706b50c"
      },
      "outputs": [
        {
          "data": {
            "text/plain": [
              "str"
            ]
          },
          "execution_count": 23,
          "metadata": {
            "tags": []
          },
          "output_type": "execute_result"
        }
      ],
      "source": [
        "type(b)     # 변수 b의 데이터 타입\n"
      ]
    },
    {
      "cell_type": "code",
      "execution_count": null,
      "metadata": {
        "colab": {
          "base_uri": "https://localhost:8080/"
        },
        "id": "mtjKsGxd9dEl",
        "outputId": "b99eac0a-7021-4c26-bd2a-53d4853b5c33"
      },
      "outputs": [
        {
          "data": {
            "text/plain": [
              "float"
            ]
          },
          "execution_count": 25,
          "metadata": {
            "tags": []
          },
          "output_type": "execute_result"
        }
      ],
      "source": [
        "type(c)     # 변수 c의 데이터 타입\n"
      ]
    },
    {
      "cell_type": "markdown",
      "metadata": {
        "id": "5axUOQRs9vtg"
      },
      "source": [
        "**변수 선언의 규칙**"
      ]
    },
    {
      "cell_type": "code",
      "execution_count": null,
      "metadata": {
        "colab": {
          "base_uri": "https://localhost:8080/",
          "height": 136
        },
        "id": "koW7K10d9tFB",
        "outputId": "d7f631bf-0136-479d-920c-01be1651c736"
      },
      "outputs": [
        {
          "ename": "SyntaxError",
          "evalue": "ignored",
          "output_type": "error",
          "traceback": [
            "\u001b[0;36m  File \u001b[0;32m\"<ipython-input-26-0ae445f730ac>\"\u001b[0;36m, line \u001b[0;32m1\u001b[0m\n\u001b[0;31m    1apple = 200\u001b[0m\n\u001b[0m         ^\u001b[0m\n\u001b[0;31mSyntaxError\u001b[0m\u001b[0;31m:\u001b[0m invalid syntax\n"
          ]
        }
      ],
      "source": [
        "1apple = 200     #변수의 첫 문자로는 숫자가 올 수 없다."
      ]
    },
    {
      "cell_type": "code",
      "execution_count": null,
      "metadata": {
        "colab": {
          "base_uri": "https://localhost:8080/",
          "height": 136
        },
        "id": "Vu9KDgF59-Fb",
        "outputId": "8dfba24b-bccc-4952-ff0b-43216cc1c070"
      },
      "outputs": [
        {
          "ename": "SyntaxError",
          "evalue": "ignored",
          "output_type": "error",
          "traceback": [
            "\u001b[0;36m  File \u001b[0;32m\"<ipython-input-28-563084b3e606>\"\u001b[0;36m, line \u001b[0;32m1\u001b[0m\n\u001b[0;31m    if = 10\u001b[0m\n\u001b[0m       ^\u001b[0m\n\u001b[0;31mSyntaxError\u001b[0m\u001b[0;31m:\u001b[0m invalid syntax\n"
          ]
        }
      ],
      "source": [
        "if = 10      # 파이썬의 키워드를 변수명으로 사용할 수 없다."
      ]
    },
    {
      "cell_type": "code",
      "execution_count": null,
      "metadata": {
        "colab": {
          "base_uri": "https://localhost:8080/"
        },
        "id": "LqPoaMeg-dzE",
        "outputId": "ae3b115c-67eb-4d83-d7b5-ddf3fe97b619"
      },
      "outputs": [
        {
          "data": {
            "text/plain": [
              "10"
            ]
          },
          "execution_count": 30,
          "metadata": {
            "tags": []
          },
          "output_type": "execute_result"
        }
      ],
      "source": [
        "Apple = 10    # 변수명의 첫문자로 대문자가 올 수는 있으나, 권장하지는 않는다.\n",
        "Apple"
      ]
    },
    {
      "cell_type": "markdown",
      "metadata": {
        "id": "1polbqCa_Kpc"
      },
      "source": [
        "# 파이썬 연산자"
      ]
    },
    {
      "cell_type": "code",
      "execution_count": 1,
      "metadata": {
        "colab": {
          "base_uri": "https://localhost:8080/"
        },
        "id": "1fleZFXm_N5K",
        "outputId": "d3034507-1290-4b73-cbb1-9a08a81fe188"
      },
      "outputs": [
        {
          "name": "stdout",
          "output_type": "stream",
          "text": [
            "a+b : c =13 \n",
            "a-b : c =7 \n",
            "a*b : c =30 \n",
            "a/b : c =3.333333 \n",
            "a//b : c =3 \n",
            "a%b : c =1 \n",
            "a**b : c =1000 \n"
          ]
        }
      ],
      "source": [
        "a = 10\n",
        "b = 3\n",
        "\n",
        "c = a+b                      # 더하기 연산\n",
        "print(\"a+b : c =%d \"%c)\n",
        "\n",
        "c = a-b                      # 빼기 연산\n",
        "print(\"a-b : c =%d \"%c)\n",
        "\n",
        "c = a*b                      # 곱하기 연산\n",
        "print(\"a*b : c =%d \"%c)\n",
        "\n",
        "c = a/b                      # 나누기 연산\n",
        "print(\"a/b : c =%f \"%c)     \n",
        "\n",
        "c = a//b                    # 정수 몫\n",
        "print(\"a//b : c =%d \"%c)\n",
        "\n",
        "c = a%b                    # 나머지 연산\n",
        "print(\"a%%b : c =%d \"%c)\n",
        "\n",
        "c = a**b                      # 누승 연산\n",
        "print(\"a**b : c =%d \"%c)"
      ]
    },
    {
      "cell_type": "markdown",
      "metadata": {
        "id": "Q1YgtuxeGnm5"
      },
      "source": [
        "**산술 연산자의 적용**"
      ]
    },
    {
      "cell_type": "code",
      "execution_count": null,
      "metadata": {
        "colab": {
          "base_uri": "https://localhost:8080/"
        },
        "id": "famZi_FiGm52",
        "outputId": "1c3abfac-2ecb-4236-e0fa-2cf02850b8f8"
      },
      "outputs": [
        {
          "name": "stdout",
          "output_type": "stream",
          "text": [
            "total = 4500\n"
          ]
        }
      ],
      "source": [
        "hamburger = 2000    #햄버거 하나의 가격\n",
        "nHamburger = 2         #햄버거 구매 개수\n",
        "cola = 1000    # 콜라 하나의 가격\n",
        "nCola = 1        # 콜라 구매 개수\n",
        "discount = 0.1     # 통신사 할인율\n",
        "total = (cola*nCola+hamburger*nHamburger)*(1-discount)\n",
        "print(\"total = %d\"%total)"
      ]
    },
    {
      "cell_type": "code",
      "execution_count": 1,
      "metadata": {
        "colab": {
          "base_uri": "https://localhost:8080/"
        },
        "id": "MFlOQDevYKJ4",
        "outputId": "c598103e-7077-4ca0-b4b9-32114d91200c"
      },
      "outputs": [
        {
          "name": "stdout",
          "output_type": "stream",
          "text": [
            "이벤트 가능한 횟수 : 666 \n",
            "이벤트를 하기위해 채워야 하는 개수: 1 \n"
          ]
        }
      ],
      "source": [
        "nCola = 2000         #콜라 재고 개수\n",
        "nEvent = nCola // 3    # 2+1 이벤트 가능한 횟수\n",
        "print(\"이벤트 가능한 횟수 : %d \"%nEvent)\n",
        "N_lack_cola = 3-(nCola % 3)    #  2+1 이벤트를 하기 위해 채워야 하는 콜라 개수\n",
        "print(\"이벤트를 하기위해 채워야 하는 개수: %d \"%N_lack_cola)\n",
        "\n"
      ]
    },
    {
      "cell_type": "markdown",
      "metadata": {
        "id": "sIq9CXwRafCx"
      },
      "source": [
        "**관계 연산자**"
      ]
    },
    {
      "cell_type": "code",
      "execution_count": null,
      "metadata": {
        "colab": {
          "base_uri": "https://localhost:8080/"
        },
        "id": "1Q48cMCHac7A",
        "outputId": "a978c478-7482-4be8-b11a-370d8c8cc73a"
      },
      "outputs": [
        {
          "name": "stdout",
          "output_type": "stream",
          "text": [
            "주류 판매가 가능한가요? False\n",
            "주류 판매가 가능한가요? True\n"
          ]
        }
      ],
      "source": [
        "age = 10\n",
        "print(\"주류 판매가 가능한가요?\",20<=age)    # False\n",
        "age = 20\n",
        "print(\"주류 판매가 가능한가요?\",20<=age)    # True"
      ]
    },
    {
      "cell_type": "markdown",
      "metadata": {
        "id": "gg_UfmY4aqop"
      },
      "source": [
        "**논리 연산자**"
      ]
    },
    {
      "cell_type": "code",
      "execution_count": null,
      "metadata": {
        "colab": {
          "base_uri": "https://localhost:8080/"
        },
        "id": "FkvtAPdbaurI",
        "outputId": "16c80ae4-8e66-4950-9950-6abf67d1e32c"
      },
      "outputs": [
        {
          "data": {
            "text/plain": [
              "True"
            ]
          },
          "execution_count": 32,
          "metadata": {
            "tags": []
          },
          "output_type": "execute_result"
        }
      ],
      "source": [
        "year_of_birth = 77\n",
        "end_number = year_of_birth % 10 \n",
        "end_number == 2  or end_number == 7          # True\n"
      ]
    },
    {
      "cell_type": "markdown",
      "metadata": {
        "id": "FXUgj6MKYmQ8"
      },
      "source": [
        "# 복합대입 연산자"
      ]
    },
    {
      "cell_type": "markdown",
      "metadata": {
        "id": "zoDa9ueP4qXv"
      },
      "source": [
        "편의점에서의 바코드 스캐닝을 통한 누적 금액 계산"
      ]
    },
    {
      "cell_type": "code",
      "execution_count": null,
      "metadata": {
        "colab": {
          "base_uri": "https://localhost:8080/"
        },
        "id": "gJr_9dXGpJ05",
        "outputId": "200a6263-d271-463c-fde7-d74f890d874e"
      },
      "outputs": [
        {
          "data": {
            "text/plain": [
              "4500"
            ]
          },
          "execution_count": 26,
          "metadata": {
            "tags": []
          },
          "output_type": "execute_result"
        }
      ],
      "source": [
        "total = 0\n",
        "cola = 1000\n",
        "hamburger = 2000\n",
        "milk = 1500\n",
        "## 바코드 스캐닝 시작\n",
        "total += cola\n",
        "total +=hamburger\n",
        "total += milk                      # total = total+cola+hamburger+milk\n",
        "\n",
        "total"
      ]
    },
    {
      "cell_type": "markdown",
      "metadata": {
        "id": "kypZ_EnSdeIw"
      },
      "source": [
        "# 연산자 우선 순위"
      ]
    },
    {
      "cell_type": "markdown",
      "metadata": {
        "id": "k9mNtWD0gh5d"
      },
      "source": [
        "햄버거 2개, 콜라 1개 – 10% 할인 적용"
      ]
    },
    {
      "cell_type": "code",
      "execution_count": 2,
      "metadata": {
        "colab": {
          "base_uri": "https://localhost:8080/"
        },
        "id": "Vo8MstTJgUZq",
        "outputId": "5292fb60-6f65-4576-e9ed-0729a67cb7e9"
      },
      "outputs": [
        {
          "name": "stdout",
          "output_type": "stream",
          "text": [
            "total = 4500\n"
          ]
        }
      ],
      "source": [
        "hamburger = 2000    #햄버거 하나의 가격\n",
        "nHamburger = 2         #햄버거 구매 개수\n",
        "cola = 1000    # 콜라 하나의 가격\n",
        "nCola = 1        # 콜라 구매 개수\n",
        "discount = 0.1     # 통신사 할인율\n",
        "total = (cola*nCola+hamburger*nHamburger)*(1-discount)\n",
        "print(\"total = %d\"%total)\n"
      ]
    }
  ],
  "metadata": {
    "colab": {
      "collapsed_sections": [],
      "include_colab_link": true,
      "name": "python_programming_3rd.ipynb",
      "provenance": [],
      "toc_visible": true
    },
    "kernelspec": {
      "display_name": "Python 3",
      "name": "python3"
    },
    "language_info": {
      "codemirror_mode": {
        "name": "ipython",
        "version": 3
      },
      "file_extension": ".py",
      "mimetype": "text/x-python",
      "name": "python",
      "nbconvert_exporter": "python",
      "pygments_lexer": "ipython3",
      "version": "3.12.2"
    }
  },
  "nbformat": 4,
  "nbformat_minor": 0
}
