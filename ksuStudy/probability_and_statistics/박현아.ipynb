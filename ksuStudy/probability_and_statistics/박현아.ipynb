{
  "cells": [
    {
      "cell_type": "markdown",
      "metadata": {
        "id": "fv_j62mAWQvS"
      },
      "source": [
        "## **고려사이버대학교 확률과 통계 리포트**\n"
      ]
    },
    {
      "cell_type": "markdown",
      "metadata": {
        "id": "vLa60sV5W3nx"
      },
      "source": [
        "1. 아래의 코드를 완성하여 gapminder.tsv 파일을 출력하시오."
      ]
    },
    {
      "cell_type": "code",
      "execution_count": 1,
      "metadata": {
        "colab": {
          "base_uri": "https://localhost:8080/",
          "height": 424
        },
        "id": "XGALWdNUA-gB",
        "outputId": "83d0d2a0-4828-4330-d3fb-f924e1293309"
      },
      "outputs": [
        {
          "data": {
            "text/html": [
              "<div>\n",
              "<style scoped>\n",
              "    .dataframe tbody tr th:only-of-type {\n",
              "        vertical-align: middle;\n",
              "    }\n",
              "\n",
              "    .dataframe tbody tr th {\n",
              "        vertical-align: top;\n",
              "    }\n",
              "\n",
              "    .dataframe thead th {\n",
              "        text-align: right;\n",
              "    }\n",
              "</style>\n",
              "<table border=\"1\" class=\"dataframe\">\n",
              "  <thead>\n",
              "    <tr style=\"text-align: right;\">\n",
              "      <th></th>\n",
              "      <th>country</th>\n",
              "      <th>continent</th>\n",
              "      <th>year</th>\n",
              "      <th>lifeExp</th>\n",
              "      <th>pop</th>\n",
              "      <th>gdpPercap</th>\n",
              "    </tr>\n",
              "  </thead>\n",
              "  <tbody>\n",
              "    <tr>\n",
              "      <th>0</th>\n",
              "      <td>Afghanistan</td>\n",
              "      <td>Asia</td>\n",
              "      <td>1952</td>\n",
              "      <td>28.801</td>\n",
              "      <td>8425333</td>\n",
              "      <td>779.445314</td>\n",
              "    </tr>\n",
              "    <tr>\n",
              "      <th>1</th>\n",
              "      <td>Afghanistan</td>\n",
              "      <td>Asia</td>\n",
              "      <td>1957</td>\n",
              "      <td>30.332</td>\n",
              "      <td>9240934</td>\n",
              "      <td>820.853030</td>\n",
              "    </tr>\n",
              "    <tr>\n",
              "      <th>2</th>\n",
              "      <td>Afghanistan</td>\n",
              "      <td>Asia</td>\n",
              "      <td>1962</td>\n",
              "      <td>31.997</td>\n",
              "      <td>10267083</td>\n",
              "      <td>853.100710</td>\n",
              "    </tr>\n",
              "    <tr>\n",
              "      <th>3</th>\n",
              "      <td>Afghanistan</td>\n",
              "      <td>Asia</td>\n",
              "      <td>1967</td>\n",
              "      <td>34.020</td>\n",
              "      <td>11537966</td>\n",
              "      <td>836.197138</td>\n",
              "    </tr>\n",
              "    <tr>\n",
              "      <th>4</th>\n",
              "      <td>Afghanistan</td>\n",
              "      <td>Asia</td>\n",
              "      <td>1972</td>\n",
              "      <td>36.088</td>\n",
              "      <td>13079460</td>\n",
              "      <td>739.981106</td>\n",
              "    </tr>\n",
              "    <tr>\n",
              "      <th>...</th>\n",
              "      <td>...</td>\n",
              "      <td>...</td>\n",
              "      <td>...</td>\n",
              "      <td>...</td>\n",
              "      <td>...</td>\n",
              "      <td>...</td>\n",
              "    </tr>\n",
              "    <tr>\n",
              "      <th>1699</th>\n",
              "      <td>Zimbabwe</td>\n",
              "      <td>Africa</td>\n",
              "      <td>1987</td>\n",
              "      <td>62.351</td>\n",
              "      <td>9216418</td>\n",
              "      <td>706.157306</td>\n",
              "    </tr>\n",
              "    <tr>\n",
              "      <th>1700</th>\n",
              "      <td>Zimbabwe</td>\n",
              "      <td>Africa</td>\n",
              "      <td>1992</td>\n",
              "      <td>60.377</td>\n",
              "      <td>10704340</td>\n",
              "      <td>693.420786</td>\n",
              "    </tr>\n",
              "    <tr>\n",
              "      <th>1701</th>\n",
              "      <td>Zimbabwe</td>\n",
              "      <td>Africa</td>\n",
              "      <td>1997</td>\n",
              "      <td>46.809</td>\n",
              "      <td>11404948</td>\n",
              "      <td>792.449960</td>\n",
              "    </tr>\n",
              "    <tr>\n",
              "      <th>1702</th>\n",
              "      <td>Zimbabwe</td>\n",
              "      <td>Africa</td>\n",
              "      <td>2002</td>\n",
              "      <td>39.989</td>\n",
              "      <td>11926563</td>\n",
              "      <td>672.038623</td>\n",
              "    </tr>\n",
              "    <tr>\n",
              "      <th>1703</th>\n",
              "      <td>Zimbabwe</td>\n",
              "      <td>Africa</td>\n",
              "      <td>2007</td>\n",
              "      <td>43.487</td>\n",
              "      <td>12311143</td>\n",
              "      <td>469.709298</td>\n",
              "    </tr>\n",
              "  </tbody>\n",
              "</table>\n",
              "<p>1704 rows × 6 columns</p>\n",
              "</div>"
            ],
            "text/plain": [
              "          country continent  year  lifeExp       pop   gdpPercap\n",
              "0     Afghanistan      Asia  1952   28.801   8425333  779.445314\n",
              "1     Afghanistan      Asia  1957   30.332   9240934  820.853030\n",
              "2     Afghanistan      Asia  1962   31.997  10267083  853.100710\n",
              "3     Afghanistan      Asia  1967   34.020  11537966  836.197138\n",
              "4     Afghanistan      Asia  1972   36.088  13079460  739.981106\n",
              "...           ...       ...   ...      ...       ...         ...\n",
              "1699     Zimbabwe    Africa  1987   62.351   9216418  706.157306\n",
              "1700     Zimbabwe    Africa  1992   60.377  10704340  693.420786\n",
              "1701     Zimbabwe    Africa  1997   46.809  11404948  792.449960\n",
              "1702     Zimbabwe    Africa  2002   39.989  11926563  672.038623\n",
              "1703     Zimbabwe    Africa  2007   43.487  12311143  469.709298\n",
              "\n",
              "[1704 rows x 6 columns]"
            ]
          },
          "execution_count": 1,
          "metadata": {},
          "output_type": "execute_result"
        }
      ],
      "source": [
        "import pandas as pd\n",
        "\n",
        "#df = #TODO1(\"gapminder.tsv\", sep = \"#TODO2\")\n",
        "df = pd.read_csv('/Users/hyun/MYTIL/TIL/ksuStudy/probability_and_statistics/gapminder.tsv', sep = '\\t')\n",
        "df"
      ]
    },
    {
      "cell_type": "markdown",
      "metadata": {
        "id": "NReDiSP8XNzS"
      },
      "source": [
        "2. 아래의 코드를 완성하여 gapminder 데이터에서 'lifeExp'열을 선택하여 출력하시오."
      ]
    },
    {
      "cell_type": "code",
      "execution_count": 11,
      "metadata": {
        "colab": {
          "base_uri": "https://localhost:8080/"
        },
        "id": "0ORM4UvrQ2ed",
        "outputId": "0e7a4a68-17cc-4371-93bf-df57f22e6dad"
      },
      "outputs": [
        {
          "data": {
            "text/plain": [
              "0       28.801\n",
              "1       30.332\n",
              "2       31.997\n",
              "3       34.020\n",
              "4       36.088\n",
              "         ...  \n",
              "1699    62.351\n",
              "1700    60.377\n",
              "1701    46.809\n",
              "1702    39.989\n",
              "1703    43.487\n",
              "Name: lifeExp, Length: 1704, dtype: float64"
            ]
          },
          "execution_count": 11,
          "metadata": {},
          "output_type": "execute_result"
        }
      ],
      "source": [
        "df['lifeExp']"
      ]
    },
    {
      "cell_type": "markdown",
      "metadata": {
        "id": "R-D8cxrJXiG5"
      },
      "source": [
        "3. 아래의 코드를 완성하여 gapminder 데이터에서 1이라는 이름으로 적힌 행을 출력하시오."
      ]
    },
    {
      "cell_type": "code",
      "execution_count": 12,
      "metadata": {
        "id": "G_jYyYCyXteh"
      },
      "outputs": [
        {
          "data": {
            "text/html": [
              "<div>\n",
              "<style scoped>\n",
              "    .dataframe tbody tr th:only-of-type {\n",
              "        vertical-align: middle;\n",
              "    }\n",
              "\n",
              "    .dataframe tbody tr th {\n",
              "        vertical-align: top;\n",
              "    }\n",
              "\n",
              "    .dataframe thead th {\n",
              "        text-align: right;\n",
              "    }\n",
              "</style>\n",
              "<table border=\"1\" class=\"dataframe\">\n",
              "  <thead>\n",
              "    <tr style=\"text-align: right;\">\n",
              "      <th></th>\n",
              "      <th>country</th>\n",
              "      <th>continent</th>\n",
              "      <th>year</th>\n",
              "      <th>lifeExp</th>\n",
              "      <th>pop</th>\n",
              "      <th>gdpPercap</th>\n",
              "    </tr>\n",
              "  </thead>\n",
              "  <tbody>\n",
              "    <tr>\n",
              "      <th>1699</th>\n",
              "      <td>Zimbabwe</td>\n",
              "      <td>Africa</td>\n",
              "      <td>1987</td>\n",
              "      <td>62.351</td>\n",
              "      <td>9216418</td>\n",
              "      <td>706.157306</td>\n",
              "    </tr>\n",
              "    <tr>\n",
              "      <th>1700</th>\n",
              "      <td>Zimbabwe</td>\n",
              "      <td>Africa</td>\n",
              "      <td>1992</td>\n",
              "      <td>60.377</td>\n",
              "      <td>10704340</td>\n",
              "      <td>693.420786</td>\n",
              "    </tr>\n",
              "    <tr>\n",
              "      <th>1701</th>\n",
              "      <td>Zimbabwe</td>\n",
              "      <td>Africa</td>\n",
              "      <td>1997</td>\n",
              "      <td>46.809</td>\n",
              "      <td>11404948</td>\n",
              "      <td>792.449960</td>\n",
              "    </tr>\n",
              "    <tr>\n",
              "      <th>1702</th>\n",
              "      <td>Zimbabwe</td>\n",
              "      <td>Africa</td>\n",
              "      <td>2002</td>\n",
              "      <td>39.989</td>\n",
              "      <td>11926563</td>\n",
              "      <td>672.038623</td>\n",
              "    </tr>\n",
              "    <tr>\n",
              "      <th>1703</th>\n",
              "      <td>Zimbabwe</td>\n",
              "      <td>Africa</td>\n",
              "      <td>2007</td>\n",
              "      <td>43.487</td>\n",
              "      <td>12311143</td>\n",
              "      <td>469.709298</td>\n",
              "    </tr>\n",
              "  </tbody>\n",
              "</table>\n",
              "</div>"
            ],
            "text/plain": [
              "       country continent  year  lifeExp       pop   gdpPercap\n",
              "1699  Zimbabwe    Africa  1987   62.351   9216418  706.157306\n",
              "1700  Zimbabwe    Africa  1992   60.377  10704340  693.420786\n",
              "1701  Zimbabwe    Africa  1997   46.809  11404948  792.449960\n",
              "1702  Zimbabwe    Africa  2002   39.989  11926563  672.038623\n",
              "1703  Zimbabwe    Africa  2007   43.487  12311143  469.709298"
            ]
          },
          "execution_count": 12,
          "metadata": {},
          "output_type": "execute_result"
        }
      ],
      "source": [
        "df.tail()"
      ]
    },
    {
      "cell_type": "markdown",
      "metadata": {
        "id": "3R145mW3Xw1h"
      },
      "source": [
        "4. 아래의 코드를 완성하여 gapminder 데이터에서 1, 11, 101, 1001이라는 이름으로 적힌 행을 출력하시오."
      ]
    },
    {
      "cell_type": "code",
      "execution_count": 13,
      "metadata": {
        "id": "GcP1V-BjXzJa"
      },
      "outputs": [
        {
          "ename": "SyntaxError",
          "evalue": "invalid syntax (1482192382.py, line 1)",
          "output_type": "error",
          "traceback": [
            "  \u001b[36mCell\u001b[39m\u001b[36m \u001b[39m\u001b[32mIn[13]\u001b[39m\u001b[32m, line 1\u001b[39m\n\u001b[31m    \u001b[39m\u001b[31mdf.#TODO5\u001b[39m\n       ^\n\u001b[31mSyntaxError\u001b[39m\u001b[31m:\u001b[39m invalid syntax\n"
          ]
        }
      ],
      "source": [
        "df.#TODO5"
      ]
    },
    {
      "cell_type": "markdown",
      "metadata": {
        "id": "CurTHZvBX2jB"
      },
      "source": [
        "5. 아래의 코드를 완성하여 gapminder 데이터에서 1번째, 11번째, 101번째, 1001번째 행을 출력하시오."
      ]
    },
    {
      "cell_type": "code",
      "execution_count": null,
      "metadata": {
        "id": "XrosTKNHXhbT"
      },
      "outputs": [],
      "source": [
        "df.#TODO6"
      ]
    },
    {
      "cell_type": "markdown",
      "metadata": {
        "id": "FdfEVkGsX--R"
      },
      "source": [
        "6. 아래의 함수를 완성하여 df['lifeExp']의 평균값을 출력하시오."
      ]
    },
    {
      "cell_type": "code",
      "execution_count": 14,
      "metadata": {
        "colab": {
          "base_uri": "https://localhost:8080/"
        },
        "id": "ccyrhw99RUb1",
        "outputId": "41d6f4da-019f-44e3-aa63-5bcee5f61208"
      },
      "outputs": [
        {
          "data": {
            "text/plain": [
              "np.float64(59.474439366197174)"
            ]
          },
          "execution_count": 14,
          "metadata": {},
          "output_type": "execute_result"
        }
      ],
      "source": [
        "df['lifeExp'].mean()"
      ]
    },
    {
      "cell_type": "markdown",
      "metadata": {
        "id": "RWmODMIJYFEx"
      },
      "source": [
        "7. 아래의 함수를 완성하여 df['lifeExp']의 최대값을 출력하시오."
      ]
    },
    {
      "cell_type": "code",
      "execution_count": null,
      "metadata": {
        "colab": {
          "base_uri": "https://localhost:8080/"
        },
        "id": "6buI_GMyRcn8",
        "outputId": "62697473-ed57-4787-981f-2fe524031dad"
      },
      "outputs": [
        {
          "data": {
            "text/plain": [
              "82.603"
            ]
          },
          "execution_count": 18,
          "metadata": {},
          "output_type": "execute_result"
        }
      ],
      "source": [
        "df['lifeExp'].#TODO8"
      ]
    },
    {
      "cell_type": "markdown",
      "metadata": {
        "id": "T3ojnxlUYRnA"
      },
      "source": [
        "8. 아래의 함수를 완성하여 df['lifeExp']의 최소값을 출력하시오."
      ]
    },
    {
      "cell_type": "code",
      "execution_count": null,
      "metadata": {
        "colab": {
          "base_uri": "https://localhost:8080/"
        },
        "id": "iNETnqArRjCN",
        "outputId": "82bd3dd5-00bb-4ef9-adb4-adb37777c11b"
      },
      "outputs": [
        {
          "data": {
            "text/plain": [
              "23.599"
            ]
          },
          "execution_count": 19,
          "metadata": {},
          "output_type": "execute_result"
        }
      ],
      "source": [
        "df['lifeExp'].#TODO9"
      ]
    },
    {
      "cell_type": "markdown",
      "metadata": {
        "id": "MpDRuUT9baSz"
      },
      "source": [
        "9. 아래의 함수를 완성하여 df['lifeExp']의 중앙값을 출력하시오.\n"
      ]
    },
    {
      "cell_type": "code",
      "execution_count": null,
      "metadata": {
        "colab": {
          "base_uri": "https://localhost:8080/"
        },
        "id": "mbXQDVyoRlmJ",
        "outputId": "bb863e6b-56b8-4102-e4b0-bf257d26f020"
      },
      "outputs": [
        {
          "data": {
            "text/plain": [
              "60.7125"
            ]
          },
          "execution_count": 20,
          "metadata": {},
          "output_type": "execute_result"
        }
      ],
      "source": [
        "df['lifeExp'].#TODO10"
      ]
    },
    {
      "cell_type": "markdown",
      "metadata": {
        "id": "I9OfQTKybeZD"
      },
      "source": [
        "10. 아래의 함수를 완성하여 df['lifeExp']의 분산을 출력하시오."
      ]
    },
    {
      "cell_type": "code",
      "execution_count": null,
      "metadata": {
        "colab": {
          "base_uri": "https://localhost:8080/"
        },
        "id": "CjDv3In1Rs8t",
        "outputId": "ec0f4d61-e58d-4a37-8bba-d213047ac1af"
      },
      "outputs": [
        {
          "data": {
            "text/plain": [
              "166.851663976879"
            ]
          },
          "execution_count": 21,
          "metadata": {},
          "output_type": "execute_result"
        }
      ],
      "source": [
        "df['lifeExp'].#TODO11"
      ]
    },
    {
      "cell_type": "markdown",
      "metadata": {
        "id": "dYAgoMx6bvmC"
      },
      "source": [
        "11. 아래의 함수를 완성하여 df['lifeExp']의 표준편차를 출력하시오."
      ]
    },
    {
      "cell_type": "code",
      "execution_count": null,
      "metadata": {
        "colab": {
          "base_uri": "https://localhost:8080/"
        },
        "id": "CQoS4M9rR0ha",
        "outputId": "b9631320-b0df-4e05-cf55-a18015a5a621"
      },
      "outputs": [
        {
          "data": {
            "text/plain": [
              "12.917107415241192"
            ]
          },
          "execution_count": 22,
          "metadata": {},
          "output_type": "execute_result"
        }
      ],
      "source": [
        "df['lifeExp'].#TODO12"
      ]
    },
    {
      "cell_type": "markdown",
      "metadata": {
        "id": "SEzJIfZNcBZr"
      },
      "source": [
        "12. 아래의 함수를 완성하여 df['lifeExp']의 기술통계값을 출력하시오."
      ]
    },
    {
      "cell_type": "code",
      "execution_count": null,
      "metadata": {
        "colab": {
          "base_uri": "https://localhost:8080/"
        },
        "id": "XlyOz0DpR6q1",
        "outputId": "6ab01d90-d122-4fb1-99f6-8f6920d7584b"
      },
      "outputs": [
        {
          "data": {
            "text/plain": [
              "count    1704.000000\n",
              "mean       59.474439\n",
              "std        12.917107\n",
              "min        23.599000\n",
              "25%        48.198000\n",
              "50%        60.712500\n",
              "75%        70.845500\n",
              "max        82.603000\n",
              "Name: lifeExp, dtype: float64"
            ]
          },
          "execution_count": 23,
          "metadata": {},
          "output_type": "execute_result"
        }
      ],
      "source": [
        "df['lifeExp'].#TODO13"
      ]
    },
    {
      "cell_type": "markdown",
      "metadata": {
        "id": "MN8XtXCNcP9y"
      },
      "source": [
        "13. 아래의 함수를 완성하여 히스토그램을 출력하시오."
      ]
    },
    {
      "cell_type": "code",
      "execution_count": null,
      "metadata": {
        "colab": {
          "base_uri": "https://localhost:8080/",
          "height": 507
        },
        "id": "EQ683rDXF6fH",
        "outputId": "3c042830-cee8-49f8-c7e4-d6e2a35a0710"
      },
      "outputs": [
        {
          "data": {
            "text/plain": [
              "(array([ 12., 126., 313., 283., 275., 478., 217.]),\n",
              " array([23.599     , 32.02814286, 40.45728571, 48.88642857, 57.31557143,\n",
              "        65.74471429, 74.17385714, 82.603     ]),\n",
              " <BarContainer object of 7 artists>)"
            ]
          },
          "execution_count": 24,
          "metadata": {},
          "output_type": "execute_result"
        },
        {
          "data": {
            "image/png": "[encoded data removed]",
            "text/plain": [
              "<Figure size 640x480 with 1 Axes>"
            ]
          },
          "metadata": {},
          "output_type": "display_data"
        }
      ],
      "source": [
        "import matplotlib\n",
        "import matplotlib.pyplot as plt\n",
        "plt.#TODO14(df['lifeExp'], alpha=0.4, bins=7, rwidth=1, color='red')"
      ]
    },
    {
      "cell_type": "markdown",
      "metadata": {
        "id": "EPBZtnqTc0Yq"
      },
      "source": [
        "14. 아래의 함수를 완성하여 상자그림을 출력하시오."
      ]
    },
    {
      "cell_type": "code",
      "execution_count": null,
      "metadata": {
        "colab": {
          "base_uri": "https://localhost:8080/",
          "height": 467
        },
        "id": "79jWo2I-FFwE",
        "outputId": "f3ca4267-6684-405e-9e4c-09b54acb5584"
      },
      "outputs": [
        {
          "data": {
            "text/plain": [
              "<Axes: xlabel='continent', ylabel='lifeExp'>"
            ]
          },
          "execution_count": 34,
          "metadata": {},
          "output_type": "execute_result"
        },
        {
          "data": {
            "image/png": "[encoded data removed]",
            "text/plain": [
              "<Figure size 640x480 with 1 Axes>"
            ]
          },
          "metadata": {},
          "output_type": "display_data"
        }
      ],
      "source": [
        "import matplotlib\n",
        "import seaborn as sns\n",
        "#TODO15(x='continent', y='lifeExp', data=df)"
      ]
    },
    {
      "cell_type": "markdown",
      "metadata": {
        "id": "WhUA-7Blc_SC"
      },
      "source": [
        "15. 아래의 코드를 완성하여 단일표본 t 검정 실습.csv 파일을 출력하시오."
      ]
    },
    {
      "cell_type": "code",
      "execution_count": null,
      "metadata": {
        "id": "soqp2IwM28Gq"
      },
      "outputs": [],
      "source": [
        "# 단일표본 t-test\n",
        "\n",
        "import pandas as pd\n",
        "\n",
        "df = pd.#TODO16('단일표본 t 검정 실습.csv', sep='#TODO17', encoding='#TODO18')\n",
        "\n",
        "df"
      ]
    },
    {
      "cell_type": "markdown",
      "metadata": {
        "id": "jjC4T38NdapS"
      },
      "source": [
        "16. 아래의 코드를 완성하여 단일표본 t검정을 실행하시오."
      ]
    },
    {
      "cell_type": "code",
      "execution_count": null,
      "metadata": {
        "colab": {
          "base_uri": "https://localhost:8080/"
        },
        "id": "to1e28op3x4H",
        "outputId": "f796e19b-b476-4371-c804-b97620102a33"
      },
      "outputs": [
        {
          "name": "stdout",
          "output_type": "stream",
          "text": [
            "TtestResult(statistic=-4.673894108057419, pvalue=4.4766279943188894e-06, df=299)\n"
          ]
        }
      ],
      "source": [
        "from scipy import #TODO19\n",
        "print(#TODO20(df['용량'], 250))"
      ]
    }
  ],
  "metadata": {
    "colab": {
      "provenance": []
    },
    "kernelspec": {
      "display_name": "Python 3",
      "name": "python3"
    },
    "language_info": {
      "codemirror_mode": {
        "name": "ipython",
        "version": 3
      },
      "file_extension": ".py",
      "mimetype": "text/x-python",
      "name": "python",
      "nbconvert_exporter": "python",
      "pygments_lexer": "ipython3",
      "version": "3.13.2"
    }
  },
  "nbformat": 4,
  "nbformat_minor": 0
}
